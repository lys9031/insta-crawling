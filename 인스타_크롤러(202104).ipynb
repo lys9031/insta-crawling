{
 "cells": [
  {
   "cell_type": "code",
   "execution_count": 1,
   "metadata": {},
   "outputs": [],
   "source": [
    "import pandas as pd\n",
    "import numpy as np"
   ]
  },
  {
   "cell_type": "code",
   "execution_count": 2,
   "metadata": {},
   "outputs": [],
   "source": [
    "# 라이브러리 import\n",
    "# 라이브러리 : 필요한 도구\n",
    "from selenium import webdriver  # 라이브러리(모듈) 가져오라\n",
    "from selenium.webdriver import ActionChains as AC\n",
    "from tqdm import tqdm\n",
    "from tqdm import tqdm_notebook\n",
    "import re   # regular expression (정규표현식) - 해시태그(#) 제거\n",
    "from time import sleep\n",
    "import time"
   ]
  },
  {
   "cell_type": "code",
   "execution_count": 3,
   "metadata": {},
   "outputs": [
    {
     "data": {
      "text/plain": [
       "'식당인테리어'"
      ]
     },
     "execution_count": 3,
     "metadata": {},
     "output_type": "execute_result"
    }
   ],
   "source": [
    "# 데이터 수집할 키워드 지정\n",
    "keyword = \"김치볶음밥\"\n",
    "keyword"
   ]
  },
  {
   "cell_type": "markdown",
   "metadata": {},
   "source": [
    "## 크롤링"
   ]
  },
  {
   "cell_type": "code",
   "execution_count": 6,
   "metadata": {},
   "outputs": [],
   "source": [
    "# 크롬창 띄우기\n",
    "driver = webdriver.Chrome(\"chromedriver.exe\")  # 윈도우 : \"chromedriver.exe\"\n",
    "driver.get(\"https://www.instagram.com/\")\n",
    "time.sleep(3)"
   ]
  },
  {
   "cell_type": "code",
   "execution_count": 7,
   "metadata": {},
   "outputs": [],
   "source": [
    "# 검색창에 커서 클릭\n",
    "element = driver.find_element_by_css_selector(\".pbgfb.Di7vw\")\n",
    "element.click()\n",
    "time.sleep(1)\n",
    "\n",
    "\n",
    "# 검색 창에 검색어 입력\n",
    "element = driver.find_element_by_css_selector(\".XTCLo.x3qfX\")\n",
    "element.send_keys(keyword)\n",
    "time.sleep(3)"
   ]
  },
  {
   "cell_type": "code",
   "execution_count": 8,
   "metadata": {},
   "outputs": [],
   "source": [
    "# 검색어 리스트 중 첫번째 검색어 클릭\n",
    "query_list = driver.find_elements_by_css_selector(\".-qQT3\")\n",
    "query_list[0].click()\n",
    "time.sleep(3)"
   ]
  },
  {
   "cell_type": "code",
   "execution_count": 9,
   "metadata": {},
   "outputs": [],
   "source": [
    "# 사진 클릭\n",
    "CSS_tran=\"div.Nnq7C.weEfm\"                         # 사진 버튼 정의 (\"div.Nnq7C.weEfm\")\n",
    "tran_button = driver.find_element_by_css_selector(CSS_tran)     # 사진 버튼 찾기\n",
    "AC(driver).move_to_element(tran_button).click().perform()       # 사진 버튼 클릭\n",
    "time.sleep(1)"
   ]
  },
  {
   "cell_type": "code",
   "execution_count": 10,
   "metadata": {},
   "outputs": [
    {
     "data": {
      "text/plain": [
       "'https://scontent-ssn1-1.cdninstagram.com/v/t51.2885-15/e35/p1080x1080/140756116_466833590992107_3726266523723616515_n.jpg?tp=1&_nc_ht=scontent-ssn1-1.cdninstagram.com&_nc_cat=103&_nc_ohc=ii2Auyhq2ggAX9G_yZB&edm=AP_V10EBAAAA&ccb=7-4&oh=e6c924933c751bbb41db2d624cbaa157&oe=60C29EC7&_nc_sid=4f375e'"
      ]
     },
     "execution_count": 10,
     "metadata": {},
     "output_type": "execute_result"
    }
   ],
   "source": [
    "# 사진(pic) 크롤링 시작\n",
    "overlays1 = \"div._2dDPU.CkGkG .FFVAD\"                   # 사진창 속 사진   \n",
    "img = driver.find_element_by_css_selector(overlays1)    # 사진 선택\n",
    "pic = img.get_attribute('src')                          # 사진 url 크롤링 완료\n",
    "pic"
   ]
  },
  {
   "cell_type": "code",
   "execution_count": 11,
   "metadata": {},
   "outputs": [
    {
     "data": {
      "text/plain": [
       "'2021년 1월 22일'"
      ]
     },
     "execution_count": 11,
     "metadata": {},
     "output_type": "execute_result"
    }
   ],
   "source": [
    "# 날짜(date) 크롤링 시작\n",
    "overlays2 = \"div._2dDPU.CkGkG .c-Yi7 > time\"  # 복잡...이 경로 밑에 time찾기 # 날짜 지정\n",
    "datum2 = driver.find_element_by_css_selector(overlays2)     # 날짜 선택\n",
    "datum2.get_attribute('title')"
   ]
  },
  {
   "cell_type": "code",
   "execution_count": 12,
   "metadata": {},
   "outputs": [
    {
     "data": {
      "text/plain": [
       "'좋아요 284개'"
      ]
     },
     "execution_count": 12,
     "metadata": {},
     "output_type": "execute_result"
    }
   ],
   "source": [
    "# 좋아요(like) 크롤링 시작\n",
    "overlays3 = \".Nm9Fw\"                                        # 리뷰창 속 날짜\n",
    "datum3 = driver.find_element_by_css_selector(overlays3)     # 리뷰 선택\n",
    "like = datum3.text                                          # 좋아요 크롤링 완료\n",
    "like"
   ]
  },
  {
   "cell_type": "code",
   "execution_count": 12,
   "metadata": {
    "scrolled": true
   },
   "outputs": [
    {
     "data": {
      "text/plain": [
       "' 상업공간인테리어 상업공간인테리어'"
      ]
     },
     "execution_count": 12,
     "metadata": {},
     "output_type": "execute_result"
    }
   ],
   "source": [
    "# 해시태그(tag) 크롤링 시작\n",
    "overlays4 = \".C7I1f.X7jCj\"                                  # 태그 지정\n",
    "datum3 = driver.find_element_by_css_selector(overlays4)     # 태그 선택\n",
    "tag_raw = datum3.text\n",
    "tags = re.findall('#[A-Za-z0-9가-힣]+', tag_raw)            # \"\"#OOO\"만 뽑아오기(OOO: 한글,숫자,영어,_)\n",
    "tag = ''.join(tags).replace(\"#\",\" \")                        # \"#\" 제거\n",
    "tag\n",
    "# print(target_info)"
   ]
  },
  {
   "cell_type": "code",
   "execution_count": 30,
   "metadata": {},
   "outputs": [],
   "source": [
    "# 다음장 클릭\n",
    "CSS_tran2=\"a._65Bje.coreSpriteRightPaginationArrow\"             # 다음 버튼 정의  a는 안써도됨\n",
    "tran_button2 = driver.find_element_by_css_selector(CSS_tran2)  # 다음 버튼 find\n",
    "AC(driver).move_to_element(tran_button2).click().perform()     # 다음 버튼 클릭"
   ]
  },
  {
   "cell_type": "code",
   "execution_count": null,
   "metadata": {},
   "outputs": [],
   "source": []
  },
  {
   "cell_type": "code",
   "execution_count": null,
   "metadata": {},
   "outputs": [],
   "source": []
  },
  {
   "cell_type": "markdown",
   "metadata": {},
   "source": [
    "## 크롤링 시작!"
   ]
  },
  {
   "cell_type": "code",
   "execution_count": 31,
   "metadata": {},
   "outputs": [],
   "source": [
    "# 크롬창 띄우기\n",
    "driver = webdriver.Chrome(\"chromedriver.exe\")  # 윈도우 : \"chromedriver.exe\"\n",
    "driver.get(\"https://www.instagram.com/\")\n",
    "time.sleep(3)"
   ]
  },
  {
   "cell_type": "raw",
   "metadata": {},
   "source": [
    "수동 로그인\n",
    "설정 나중에 하기"
   ]
  },
  {
   "cell_type": "code",
   "execution_count": 32,
   "metadata": {},
   "outputs": [
    {
     "data": {
      "text/plain": [
       "'C:\\\\Users\\\\mc\\\\Desktop'"
      ]
     },
     "execution_count": 32,
     "metadata": {},
     "output_type": "execute_result"
    }
   ],
   "source": [
    "pwd"
   ]
  },
  {
   "cell_type": "code",
   "execution_count": 33,
   "metadata": {
    "scrolled": false
   },
   "outputs": [
    {
     "name": "stderr",
     "output_type": "stream",
     "text": [
      "<ipython-input-33-64cfa1a4bded>:27: TqdmDeprecationWarning: This function will be removed in tqdm==5.0.0\n",
      "Please use `tqdm.notebook.tqdm` instead of `tqdm.tqdm_notebook`\n",
      "  for i in tqdm_notebook(range(0, len_insta)):    # range : 숫자가 1씩하는 함수\n"
     ]
    },
    {
     "data": {
      "application/vnd.jupyter.widget-view+json": {
       "model_id": "53511f0cc103464a852c951243db4370",
       "version_major": 2,
       "version_minor": 0
      },
      "text/plain": [
       "HBox(children=(HTML(value=''), FloatProgress(value=0.0, max=10.0), HTML(value='')))"
      ]
     },
     "metadata": {},
     "output_type": "display_data"
    },
    {
     "name": "stdout",
     "output_type": "stream",
     "text": [
      "0  식음연구소 뉴프로젝트 lucakitchen grandopen lobsterroll 문어전복명란솥밥 떡볶이 치킨버거 김치볶음밥 seafoodplatter nomadicsicialdining luca831 casia 루카키친 식음연구소 rnd 운영팀\n",
      "1  김치볶음밥 비비고두툼동그랑땡 동그랑땡 꼬들꼬들밥알\n",
      "2  혼밥 김볶밥 혼밥 김치볶음밥 점심메뉴 계란후라이 샐러리 마요네즈 인스타푸드 볶음밥 집밥 푸드스타그램 요리하는여자 목요일 치즈를깜빡했네\n",
      "3  하나우동 철판볶음밥 김치볶음밥 압구정맛집 피그웨이브\n",
      "4  충격의김치볶음밥 중독성 김치볶음밥 스팸김치볶음밥 햄김치볶음밥 계란후라이 옴뇸뇸 오늘뭐먹지 먹방 JMT 먹스타 푸드 음식 foodie 밥스타그램 집밥 홈쿡 instaeats instafood 먹스타그램 다이어트 일상 육아 남매맘 소통 foodporn foodfi\n",
      "5  김치볶음밥 소떡소떡\n",
      "6  빼박스밀\n",
      "7  오늘아침 쿠진 쿠집 김치볶음밥 김뽁\n",
      "8 \n",
      "9  점심 금호동알렉스 파스타 김치볶음밥 초밥 콰트로치즈피자 백암맛집 용인맛집 이나카야 먹스타그램 맛스타그램 맛집추천 foodies pasta pizza sushi\n",
      "\n",
      "{0: {'picture': 'https://scontent-ssn1-1.cdninstagram.com/v/t51.2885-15/e35/p1080x1080/178134350_2014315772044562_2659577245649133240_n.jpg?tp=1&_nc_ht=scontent-ssn1-1.cdninstagram.com&_nc_cat=102&_nc_ohc=uHCkW7Bvy0AAX-B7JaN&edm=AP_V10EBAAAA&ccb=7-4&oh=3b01a8c68c378ed2f4a4ec17708e3e2d&oe=60B11327&_nc_sid=4f375e', 'date': '2021년 4월 27일', 'like': '좋아요 1,634개', 'tag': ' 식음연구소 뉴프로젝트 lucakitchen grandopen lobsterroll 문어전복명란솥밥 떡볶이 치킨버거 김치볶음밥 seafoodplatter nomadicsicialdining luca831 casia 루카키친 식음연구소 rnd 운영팀'}, 1: {'picture': 'https://scontent-ssn1-1.cdninstagram.com/v/t51.2885-15/e35/s1080x1080/179483447_952146755597698_8610336265045551157_n.jpg?tp=1&_nc_ht=scontent-ssn1-1.cdninstagram.com&_nc_cat=110&_nc_ohc=_XnlPAu2YWcAX8rMPaN&edm=AP_V10EBAAAA&ccb=7-4&oh=383b9ec7e227faf8f3eda028031d7d96&oe=60B07EAA&_nc_sid=4f375e', 'date': '2021년 4월 29일', 'like': '좋아요 144개', 'tag': ' 김치볶음밥 비비고두툼동그랑땡 동그랑땡 꼬들꼬들밥알'}, 2: {'picture': 'https://scontent-ssn1-1.cdninstagram.com/v/t51.2885-15/e35/s1080x1080/178625283_2655874224698703_2471257663123723593_n.jpg?tp=1&_nc_ht=scontent-ssn1-1.cdninstagram.com&_nc_cat=103&_nc_ohc=f10R7F7FeeMAX_LWlMD&edm=AP_V10EBAAAA&ccb=7-4&oh=b1d3b39cee5bfc03cb33313fe09d8e8b&oe=60AF9E29&_nc_sid=4f375e', 'date': '2021년 4월 29일', 'like': '좋아요 170개', 'tag': ' 혼밥 김볶밥 혼밥 김치볶음밥 점심메뉴 계란후라이 샐러리 마요네즈 인스타푸드 볶음밥 집밥 푸드스타그램 요리하는여자 목요일 치즈를깜빡했네'}, 3: {'picture': 'https://scontent-ssn1-1.cdninstagram.com/v/t51.2885-15/e35/s1080x1080/177012709_483119943103400_6822178491433006713_n.jpg?tp=1&_nc_ht=scontent-ssn1-1.cdninstagram.com&_nc_cat=108&_nc_ohc=xkG-bK91N-oAX_nrghE&edm=AP_V10EBAAAA&ccb=7-4&oh=00182266944879da51e90cf7c3670d49&oe=60AFD574&_nc_sid=4f375e', 'date': '2021년 4월 22일', 'like': '좋아요 1,048개', 'tag': ' 하나우동 철판볶음밥 김치볶음밥 압구정맛집 피그웨이브'}, 4: {'picture': 'https://scontent-ssn1-1.cdninstagram.com/v/t51.2885-15/e35/p1080x1080/178115246_821813455106989_7857617521637726337_n.jpg?tp=1&_nc_ht=scontent-ssn1-1.cdninstagram.com&_nc_cat=101&_nc_ohc=OWmFwxD7rZUAX_aFntP&edm=AP_V10EBAAAA&ccb=7-4&oh=39209444bfc2e0116951c7dcf790e8ec&oe=60AFE5EB&_nc_sid=4f375e', 'date': '2021년 4월 28일', 'like': '좋아요 908개', 'tag': ' 충격의김치볶음밥 중독성 김치볶음밥 스팸김치볶음밥 햄김치볶음밥 계란후라이 옴뇸뇸 오늘뭐먹지 먹방 JMT 먹스타 푸드 음식 foodie 밥스타그램 집밥 홈쿡 instaeats instafood 먹스타그램 다이어트 일상 육아 남매맘 소통 foodporn foodfi'}, 5: {'picture': 'https://scontent-ssn1-1.cdninstagram.com/v/t51.2885-15/e35/s1080x1080/168379195_110418044380151_8427065532357314882_n.jpg?tp=1&_nc_ht=scontent-ssn1-1.cdninstagram.com&_nc_cat=111&_nc_ohc=or2knYtgcrYAX8VcIeW&edm=AP_V10EBAAAA&ccb=7-4&oh=63c64029466d907c4a3254179e2e3c22&oe=60B04F6D&_nc_sid=4f375e', 'date': '2021년 4월 5일', 'like': '좋아요 146개', 'tag': ' 김치볶음밥 소떡소떡'}, 6: {'picture': 'https://scontent-ssn1-1.cdninstagram.com/v/t51.2885-15/e35/s1080x1080/179226670_256307526191454_4321442701059070782_n.jpg?tp=1&_nc_ht=scontent-ssn1-1.cdninstagram.com&_nc_cat=106&_nc_ohc=TFnQq6WwmA4AX_HK7Jb&edm=AP_V10EBAAAA&ccb=7-4&oh=b3160891168e4ac3d6afc0b64eecc338&oe=60AF8BB6&_nc_sid=4f375e', 'date': '2021년 4월 29일', 'like': '좋아요 149개', 'tag': ' 빼박스밀'}, 7: {'picture': 'https://scontent-ssn1-1.cdninstagram.com/v/t51.2885-15/e35/p1080x1080/175969390_5293275647412238_1942877845490485936_n.jpg?tp=1&_nc_ht=scontent-ssn1-1.cdninstagram.com&_nc_cat=110&_nc_ohc=aAzH1kuR-v8AX9Re4YG&edm=AP_V10EBAAAA&ccb=7-4&oh=bfd18ff114cf98ce3752bf374dbad764&oe=60B13E4A&_nc_sid=4f375e', 'date': '2021년 4월 25일', 'like': '좋아요 863개', 'tag': ' 오늘아침 쿠진 쿠집 김치볶음밥 김뽁'}, 8: {'picture': 'https://scontent-ssn1-1.cdninstagram.com/v/t51.2885-15/e35/p1080x1080/178958708_322326636208604_4399381637912064757_n.jpg?tp=1&_nc_ht=scontent-ssn1-1.cdninstagram.com&_nc_cat=108&_nc_ohc=KRkZYWproxoAX9it2v-&edm=AP_V10EBAAAA&ccb=7-4&oh=17664f69b2bbfda5a83ce3faafdf90a8&oe=60B20404&_nc_sid=4f375e', 'date': '2021년 4월 28일', 'like': '좋아요 149개', 'tag': ''}, 9: {'picture': 'https://scontent-ssn1-1.cdninstagram.com/v/t51.2885-15/e35/s1080x1080/179275801_140319444769670_3403737932603596043_n.jpg?tp=1&_nc_ht=scontent-ssn1-1.cdninstagram.com&_nc_cat=102&_nc_ohc=_rW4y7SrtZEAX-p-_wB&edm=AP_V10EBAAAA&ccb=7-4&oh=5dea3a946c032b26b6da36ddf38d2c83&oe=60B13BC3&_nc_sid=4f375e', 'date': '2021년 4월 30일', 'like': '좋아요 128개', 'tag': ' 점심 금호동알렉스 파스타 김치볶음밥 초밥 콰트로치즈피자 백암맛집 용인맛집 이나카야 먹스타그램 맛스타그램 맛집추천 foodies pasta pizza sushi'}}\n"
     ]
    }
   ],
   "source": [
    "dict = {}                                                       # 전체 데이터를 담을 딕셔너리 생성\n",
    "\n",
    "# 검색창에 커서 클릭\n",
    "element = driver.find_element_by_css_selector(\".pbgfb.Di7vw\")\n",
    "element.click()\n",
    "time.sleep(1)\n",
    "\n",
    "# 검색 창에 검색어 입력\n",
    "element = driver.find_element_by_css_selector(\".XTCLo.x3qfX\")\n",
    "element.send_keys(keyword)\n",
    "time.sleep(3)\n",
    "\n",
    "# 검색어 리스트 중 첫번째 검색어 클릭\n",
    "query_list = driver.find_elements_by_css_selector(\".-qQT3\")\n",
    "query_list[0].click()\n",
    "time.sleep(7)\n",
    "\n",
    "# 사진 클릭\n",
    "CSS_tran=\"div.Nnq7C.weEfm\"                                      # 사진 버튼 정의 \n",
    "tran_button = driver.find_element_by_css_selector(CSS_tran)     # 사진 버튼 찾기\n",
    "AC(driver).move_to_element(tran_button).click().perform()       # 사진 버튼 클릭\n",
    "time.sleep(1)\n",
    "\n",
    "# 크롤링 시작\n",
    "len_insta = 10   # 몇 개 글을 크롤링 할건지\n",
    "\n",
    "for i in tqdm_notebook(range(0, len_insta)):    # range : 숫자가 1씩하는 함수\n",
    "\n",
    "    target_info = {}                                            # 사진별 데이터를 담을 딕셔너리 생성\n",
    "\n",
    "    try:    # 크롤링을 시도해라.\n",
    "        # 사진(pic) 크롤링 시작\n",
    "        overlays1 = \"div._2dDPU.CkGkG .FFVAD\"                   # 사진창 속 사진   \n",
    "        img = driver.find_element_by_css_selector(overlays1)    # 사진 선택\n",
    "        pic = img.get_attribute('src')                          # 사진 url 크롤링 완료\n",
    "        target_info['picture'] = pic\n",
    "        # print(target_info)\n",
    "\n",
    "        # 날짜(date) 크롤링 시작\n",
    "        overlays2 = \"div._2dDPU.CkGkG .c-Yi7 > time\"                  # 날짜 지정\n",
    "        datum2 = driver.find_element_by_css_selector(overlays2)     # 날짜 선택\n",
    "        date = datum2.get_attribute('title')\n",
    "#         get_attribute('title')                                    # 날짜 크롤링 완료\n",
    "        target_info['date'] = date\n",
    "        # print(target_info)\n",
    "        # print(datalist)\n",
    "\n",
    "        # 좋아요(like) 크롤링 시작\n",
    "        overlays3 = \".Nm9Fw\"                                        # 리뷰창 속 날짜\n",
    "        datum3 = driver.find_element_by_css_selector(overlays3)     # 리뷰 선택\n",
    "        like = datum3.text                                          # 좋아요 크롤링 완료\n",
    "        target_info['like'] = like\n",
    "        # print(target_info)\n",
    "\n",
    "        # 해시태그(tag) 크롤링 시작\n",
    "        overlays4 = \".C7I1f.X7jCj\"                                  # 태그 지정\n",
    "        datum3 = driver.find_element_by_css_selector(overlays4)     # 태그 선택\n",
    "        tag_raw = datum3.text\n",
    "        tags = re.findall('#[A-Za-z0-9가-힣]+', tag_raw)            # re는 정규표현식 \"#OOO\"만 뽑아오기(OOO: 한글,숫자,영어,_)\n",
    "        tag = ''.join(tags).replace(\"#\",\" \")                        # \"#\" 제거  join은 이어붙이기\n",
    "        target_info['tag'] = tag\n",
    "        # print(target_info)\n",
    "\n",
    "        dict[i] = target_info            # 토탈 딕셔너리로 만들기\n",
    "\n",
    "        print(\"{0}\".format(i), tag)\n",
    "\n",
    "        # 다음장 클릭\n",
    "        CSS_tran2=\"a._65Bje.coreSpriteRightPaginationArrow\"             # 다음 버튼 정의\n",
    "        tran_button2 = driver.find_element_by_css_selector(CSS_tran2)  # 다음 버튼 find\n",
    "        AC(driver).move_to_element(tran_button2).click().perform()     # 다음 버튼 클릭\n",
    "        time.sleep(2)\n",
    "\n",
    "    except:  # 에러가 나면 다음장을 클릭해라\n",
    "        # 다음장 클릭\n",
    "        CSS_tran2=\"a._65Bje.coreSpriteRightPaginationArrow\"             # 다음 버튼 정의\n",
    "        tran_button2 = driver.find_element_by_css_selector(CSS_tran2)  # 다음 버튼 find\n",
    "        AC(driver).move_to_element(tran_button2).click().perform()     # 다음 버튼 클릭\n",
    "        time.sleep(2)\n",
    "\n",
    "print(dict)\n",
    "\n",
    "# 판다스로 만들기 : 엑셀(테이블) 형식으로 만들기\n",
    "import pandas as pd\n",
    "result_df = pd.DataFrame.from_dict(dict, 'index')\n",
    "\n",
    "n = result_df['picture'].count()\n",
    "\n",
    "# csv 형식(엑셀이랑 비슷한 파일)으로 저장\n",
    "result_df.to_csv(\"data.insta({}).csv\".format(keyword), encoding='euc-kr')"
   ]
  },
  {
   "cell_type": "code",
   "execution_count": 34,
   "metadata": {},
   "outputs": [
    {
     "data": {
      "text/html": [
       "<div>\n",
       "<style scoped>\n",
       "    .dataframe tbody tr th:only-of-type {\n",
       "        vertical-align: middle;\n",
       "    }\n",
       "\n",
       "    .dataframe tbody tr th {\n",
       "        vertical-align: top;\n",
       "    }\n",
       "\n",
       "    .dataframe thead th {\n",
       "        text-align: right;\n",
       "    }\n",
       "</style>\n",
       "<table border=\"1\" class=\"dataframe\">\n",
       "  <thead>\n",
       "    <tr style=\"text-align: right;\">\n",
       "      <th></th>\n",
       "      <th>picture</th>\n",
       "      <th>date</th>\n",
       "      <th>like</th>\n",
       "      <th>tag</th>\n",
       "    </tr>\n",
       "  </thead>\n",
       "  <tbody>\n",
       "    <tr>\n",
       "      <th>0</th>\n",
       "      <td>https://scontent-ssn1-1.cdninstagram.com/v/t51...</td>\n",
       "      <td>2021년 4월 27일</td>\n",
       "      <td>좋아요 1,634개</td>\n",
       "      <td>식음연구소 뉴프로젝트 lucakitchen grandopen lobsterroll...</td>\n",
       "    </tr>\n",
       "    <tr>\n",
       "      <th>1</th>\n",
       "      <td>https://scontent-ssn1-1.cdninstagram.com/v/t51...</td>\n",
       "      <td>2021년 4월 29일</td>\n",
       "      <td>좋아요 144개</td>\n",
       "      <td>김치볶음밥 비비고두툼동그랑땡 동그랑땡 꼬들꼬들밥알</td>\n",
       "    </tr>\n",
       "    <tr>\n",
       "      <th>2</th>\n",
       "      <td>https://scontent-ssn1-1.cdninstagram.com/v/t51...</td>\n",
       "      <td>2021년 4월 29일</td>\n",
       "      <td>좋아요 170개</td>\n",
       "      <td>혼밥 김볶밥 혼밥 김치볶음밥 점심메뉴 계란후라이 샐러리 마요네즈 인스타푸드 볶음밥...</td>\n",
       "    </tr>\n",
       "    <tr>\n",
       "      <th>3</th>\n",
       "      <td>https://scontent-ssn1-1.cdninstagram.com/v/t51...</td>\n",
       "      <td>2021년 4월 22일</td>\n",
       "      <td>좋아요 1,048개</td>\n",
       "      <td>하나우동 철판볶음밥 김치볶음밥 압구정맛집 피그웨이브</td>\n",
       "    </tr>\n",
       "    <tr>\n",
       "      <th>4</th>\n",
       "      <td>https://scontent-ssn1-1.cdninstagram.com/v/t51...</td>\n",
       "      <td>2021년 4월 28일</td>\n",
       "      <td>좋아요 908개</td>\n",
       "      <td>충격의김치볶음밥 중독성 김치볶음밥 스팸김치볶음밥 햄김치볶음밥 계란후라이 옴뇸뇸 오...</td>\n",
       "    </tr>\n",
       "    <tr>\n",
       "      <th>5</th>\n",
       "      <td>https://scontent-ssn1-1.cdninstagram.com/v/t51...</td>\n",
       "      <td>2021년 4월 5일</td>\n",
       "      <td>좋아요 146개</td>\n",
       "      <td>김치볶음밥 소떡소떡</td>\n",
       "    </tr>\n",
       "    <tr>\n",
       "      <th>6</th>\n",
       "      <td>https://scontent-ssn1-1.cdninstagram.com/v/t51...</td>\n",
       "      <td>2021년 4월 29일</td>\n",
       "      <td>좋아요 149개</td>\n",
       "      <td>빼박스밀</td>\n",
       "    </tr>\n",
       "    <tr>\n",
       "      <th>7</th>\n",
       "      <td>https://scontent-ssn1-1.cdninstagram.com/v/t51...</td>\n",
       "      <td>2021년 4월 25일</td>\n",
       "      <td>좋아요 863개</td>\n",
       "      <td>오늘아침 쿠진 쿠집 김치볶음밥 김뽁</td>\n",
       "    </tr>\n",
       "    <tr>\n",
       "      <th>8</th>\n",
       "      <td>https://scontent-ssn1-1.cdninstagram.com/v/t51...</td>\n",
       "      <td>2021년 4월 28일</td>\n",
       "      <td>좋아요 149개</td>\n",
       "      <td></td>\n",
       "    </tr>\n",
       "    <tr>\n",
       "      <th>9</th>\n",
       "      <td>https://scontent-ssn1-1.cdninstagram.com/v/t51...</td>\n",
       "      <td>2021년 4월 30일</td>\n",
       "      <td>좋아요 128개</td>\n",
       "      <td>점심 금호동알렉스 파스타 김치볶음밥 초밥 콰트로치즈피자 백암맛집 용인맛집 이나카야...</td>\n",
       "    </tr>\n",
       "  </tbody>\n",
       "</table>\n",
       "</div>"
      ],
      "text/plain": [
       "                                             picture          date  \\\n",
       "0  https://scontent-ssn1-1.cdninstagram.com/v/t51...  2021년 4월 27일   \n",
       "1  https://scontent-ssn1-1.cdninstagram.com/v/t51...  2021년 4월 29일   \n",
       "2  https://scontent-ssn1-1.cdninstagram.com/v/t51...  2021년 4월 29일   \n",
       "3  https://scontent-ssn1-1.cdninstagram.com/v/t51...  2021년 4월 22일   \n",
       "4  https://scontent-ssn1-1.cdninstagram.com/v/t51...  2021년 4월 28일   \n",
       "5  https://scontent-ssn1-1.cdninstagram.com/v/t51...   2021년 4월 5일   \n",
       "6  https://scontent-ssn1-1.cdninstagram.com/v/t51...  2021년 4월 29일   \n",
       "7  https://scontent-ssn1-1.cdninstagram.com/v/t51...  2021년 4월 25일   \n",
       "8  https://scontent-ssn1-1.cdninstagram.com/v/t51...  2021년 4월 28일   \n",
       "9  https://scontent-ssn1-1.cdninstagram.com/v/t51...  2021년 4월 30일   \n",
       "\n",
       "         like                                                tag  \n",
       "0  좋아요 1,634개   식음연구소 뉴프로젝트 lucakitchen grandopen lobsterroll...  \n",
       "1    좋아요 144개                        김치볶음밥 비비고두툼동그랑땡 동그랑땡 꼬들꼬들밥알  \n",
       "2    좋아요 170개   혼밥 김볶밥 혼밥 김치볶음밥 점심메뉴 계란후라이 샐러리 마요네즈 인스타푸드 볶음밥...  \n",
       "3  좋아요 1,048개                       하나우동 철판볶음밥 김치볶음밥 압구정맛집 피그웨이브  \n",
       "4    좋아요 908개   충격의김치볶음밥 중독성 김치볶음밥 스팸김치볶음밥 햄김치볶음밥 계란후라이 옴뇸뇸 오...  \n",
       "5    좋아요 146개                                         김치볶음밥 소떡소떡  \n",
       "6    좋아요 149개                                               빼박스밀  \n",
       "7    좋아요 863개                                오늘아침 쿠진 쿠집 김치볶음밥 김뽁  \n",
       "8    좋아요 149개                                                     \n",
       "9    좋아요 128개   점심 금호동알렉스 파스타 김치볶음밥 초밥 콰트로치즈피자 백암맛집 용인맛집 이나카야...  "
      ]
     },
     "execution_count": 34,
     "metadata": {},
     "output_type": "execute_result"
    }
   ],
   "source": [
    "result_df"
   ]
  },
  {
   "cell_type": "code",
   "execution_count": 35,
   "metadata": {},
   "outputs": [
    {
     "data": {
      "text/plain": [
       "10"
      ]
     },
     "execution_count": 35,
     "metadata": {},
     "output_type": "execute_result"
    }
   ],
   "source": [
    "num_pic = len(result_df['picture'])\n",
    "num_pic"
   ]
  },
  {
   "cell_type": "code",
   "execution_count": 36,
   "metadata": {},
   "outputs": [
    {
     "data": {
      "text/plain": [
       "'C:\\\\Users\\\\mc\\\\Desktop'"
      ]
     },
     "execution_count": 36,
     "metadata": {},
     "output_type": "execute_result"
    }
   ],
   "source": [
    "pwd"
   ]
  },
  {
   "cell_type": "code",
   "execution_count": 37,
   "metadata": {},
   "outputs": [],
   "source": [
    "# 이미지들 image_insta 폴더에 다운받기\n",
    "import os\n",
    "import urllib.request\n",
    "\n",
    "# 만약 image_insta 폴더가 없으면 만들어라\n",
    "if not os.path.exists(\"image_insta\"):\n",
    "    os.makedirs(\"image_insta\")\n",
    "        \n",
    "for i in range(0, 50):\n",
    "    \n",
    "    try:\n",
    "        index = result_df['picture'][i]\n",
    "        date = result_df['date'][i]\n",
    "        urllib.request.urlretrieve(index, \"image_insta/{0}_{1}.jpg\".format(date, i))        \n",
    "    except:\n",
    "        pass"
   ]
  },
  {
   "cell_type": "markdown",
   "metadata": {},
   "source": [
    "끝"
   ]
  },
  {
   "cell_type": "code",
   "execution_count": null,
   "metadata": {},
   "outputs": [],
   "source": []
  }
 ],
 "metadata": {
  "kernelspec": {
   "display_name": "Python 3",
   "language": "python",
   "name": "python3"
  },
  "language_info": {
   "codemirror_mode": {
    "name": "ipython",
    "version": 3
   },
   "file_extension": ".py",
   "mimetype": "text/x-python",
   "name": "python",
   "nbconvert_exporter": "python",
   "pygments_lexer": "ipython3",
   "version": "3.8.5"
  },
  "varInspector": {
   "cols": {
    "lenName": 16,
    "lenType": 16,
    "lenVar": 40
   },
   "kernels_config": {
    "python": {
     "delete_cmd_postfix": "",
     "delete_cmd_prefix": "del ",
     "library": "var_list.py",
     "varRefreshCmd": "print(var_dic_list())"
    },
    "r": {
     "delete_cmd_postfix": ") ",
     "delete_cmd_prefix": "rm(",
     "library": "var_list.r",
     "varRefreshCmd": "cat(var_dic_list()) "
    }
   },
   "types_to_exclude": [
    "module",
    "function",
    "builtin_function_or_method",
    "instance",
    "_Feature"
   ],
   "window_display": false
  }
 },
 "nbformat": 4,
 "nbformat_minor": 2
}
